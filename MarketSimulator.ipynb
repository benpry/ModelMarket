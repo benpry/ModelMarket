{
 "cells": [
  {
   "cell_type": "code",
   "execution_count": null,
   "metadata": {},
   "outputs": [],
   "source": [
    "class Market:\n",
    "    list agents\n",
    "    dict prices\n",
    "    def __init__(agents, labels):\n",
    "        self.agents = agents\n",
    "        for label in labels:\n",
    "            self.labels[label] = 1 / len(labels)\n",
    "    def process_purchase(label):\n",
    "        #logic about what to do when an agent buys something"
   ]
  },
  {
   "cell_type": "code",
   "execution_count": null,
   "metadata": {},
   "outputs": [],
   "source": [
    "class ModelAgent:\n",
    "    float money\n",
    "    def __init__(model, initial_money):\n",
    "        this.model = model\n",
    "        this.money = initial_money\n",
    "    def buy():\n",
    "        # put the logic about when to buy what here"
   ]
  }
 ],
 "metadata": {
  "kernelspec": {
   "display_name": "Python 3",
   "language": "python",
   "name": "python3"
  },
  "language_info": {
   "codemirror_mode": {
    "name": "ipython",
    "version": 3
   },
   "file_extension": ".py",
   "mimetype": "text/x-python",
   "name": "python",
   "nbconvert_exporter": "python",
   "pygments_lexer": "ipython3",
   "version": "3.6.5"
  }
 },
 "nbformat": 4,
 "nbformat_minor": 2
}
